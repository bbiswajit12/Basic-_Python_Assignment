{
  "nbformat": 4,
  "nbformat_minor": 0,
  "metadata": {
    "colab": {
      "provenance": []
    },
    "kernelspec": {
      "name": "python3",
      "display_name": "Python 3"
    },
    "language_info": {
      "name": "python"
    }
  },
  "cells": [
    {
      "cell_type": "code",
      "execution_count": null,
      "metadata": {
        "id": "LueCKnNULpUU"
      },
      "outputs": [],
      "source": []
    },
    {
      "cell_type": "markdown",
      "source": [
        "1. What is python and why is popular?\n",
        " -  Python is an interpreted programming language used for web development,  \n",
        "   data\n",
        "   science,   artificial intelligence, and more. It is designed for ease of use and emphasizes code readability.\n",
        "   Python is popular because:\n",
        "\n",
        "     Uses simple and clear syntax.\n",
        "\n",
        "     Works for web apps, AI, machine learning, automation, scripting, etc.\n",
        "\n",
        "     Has extensive libraries (like NumPy, Pandas, TensorFlow) and community\n",
        "     support.\n",
        "\n",
        "     Runs on Windows, macOS, and Linux.\n",
        "\n",
        "     Can automate repetitive tasks easily.\n",
        "\n",
        "     Preferred for data analysis, machine learning, and deep learning.\n",
        "\n",
        "2. what is interpreter in python?\n",
        " - An interpreter in Python is a program that reads, translates, and executes\n",
        "   Python code line by line, instead of compiling it all at once.\n",
        "\n",
        "3. What are pre-defined keywords in Python?\n",
        " -  Here are some commonly used Python keywords with details given    below:         \n",
        "   if, elif, else, for, while, break, continue, pass, def, return, lambda, class, try, except, finally, raise, assert, True, False, None, and, or, not, global, nonlocal, del, is, in.\n",
        "  \n",
        "4. can keyword be used as variable name?\n",
        "  -  No, keywords cannot be used as variable names in Python. If you try to   use  \n",
        "     a keyword as a variable name, Python will raise a SyntaxError.\n",
        "\n",
        "5. what is mutability in python?\n",
        "  -  Mutability in Python is an object’s value can be changed after it is\n",
        "     created.\n",
        "\n",
        "6. why are list mutable, but tuples are immutable?\n",
        "  -  A list is mutable because it allows modifications, meaning you can add,    remove, or change elements after creation.\n",
        "\n",
        "\t A tuple is immutable because it does not allow modifications after creation.\n",
        "\n",
        "7. what is the difference between “==” and “is” operation in python?\n",
        "  -  They’re serve different between “==” operator and “is” operator. The       \n",
        "     differences are given below:\n",
        "   \n",
        "     “==” operator is Equality Operator and “is” operator Identity Operator.\n",
        "\n",
        "     “ ==” operator use when you want to compare values and\n",
        "     “is” operator Use when you want to check if two variables refer to the same object in memory.\n",
        "  \n",
        "8. what are logical operators in python?\n",
        "  -  Logical operators in Python are used to perform Boolean logic operations.\n",
        "     They help combine multiple conditions and return either True or False based on the logic applied.\n",
        "  \n",
        "9. What is type casting in python?\n",
        "  -  Type casting in Python is the process of converting a variable from one\n",
        "     data type to another like int (), float (), str (), etc.\n",
        "\n",
        "10. What is the difference between implicit and explicit type casting?\n",
        "  -   Implicit Type Casting is Done automatically by the compiler but Explicit\n",
        "      Type Casting is Done manually by the programmer using casting operators.\n",
        "\n",
        "      In Implicit Type Casting No data loss occurs but Explicit Type Casting\n",
        "      Possible data loss if converting from a larger data type to a smaller one.\n",
        "\n",
        "11. What is the purpose of conditional statement in python?\n",
        "  -   Conditional statements in Python are used to make decisions in a program\n",
        "      by executing different blocks of code based on certain conditions using if-elif-else Statement\n",
        "\n",
        "12. How dose the elif statement work?\n",
        "  -   The elif statement in Python is allows to check multiple conditions\n",
        "      sequentially. If the first if condition is False, then the program checks the elif conditions one by one. If any elif condition is false , then the program checks else.\n",
        "\n",
        "13. What is the difference between for and while loops?\n",
        "  -   They’re serve different between “==” operator and “is” operator. The\n",
        "      differences are given below:\n",
        "      For loops are iteration-driven but while loops are condition-driven\n",
        "\n",
        "      For loops is use when the number of iterations is know or you’re working with a sequence but while loops use when the end depends on a dynamic condition.\n",
        "\n",
        "      For loops are safer in that regard since they’re bound by their range but while loops can accidentally become infinite if the condition never becomes false.  \n",
        "\n",
        "14. Describe a scenario where a while loop is more suitable than a for loop?\n",
        "  -   A while loop is more suitable when you don’t know in future how many  \n",
        "      times the loop should run, and the termination depends on a condition rather than a fixed number of iterations.\n",
        "\n",
        "\n",
        "\n",
        "\n",
        "\n",
        "\n",
        "\n",
        "\n"
      ],
      "metadata": {
        "id": "2wx-wl1lLqLY"
      }
    },
    {
      "cell_type": "markdown",
      "source": [],
      "metadata": {
        "id": "1Yw7O4Y1RH-B"
      }
    },
    {
      "cell_type": "code",
      "source": [
        "# Practical Questions\n"
      ],
      "metadata": {
        "id": "XLpHCijfqEDm"
      },
      "execution_count": null,
      "outputs": []
    },
    {
      "cell_type": "code",
      "source": [
        "# 1.\tWrite a python program to print “Hello, World”\n",
        "\"\"\"Print (“Hello, World”)\"\"\""
      ],
      "metadata": {
        "id": "h433KSjtq21G"
      },
      "execution_count": null,
      "outputs": []
    },
    {
      "cell_type": "code",
      "source": [
        "# 2.\tWrite a python program that displays your name and age.\n",
        "\"\"\"\n",
        "name =\"Ram\"\n",
        "age = \"24\"\n",
        "print (\"Your Name is: \", name)\n",
        "print (\"Your Age is: \", age)\n",
        "\"\"\""
      ],
      "metadata": {
        "id": "-uo9WTcAryUW"
      },
      "execution_count": null,
      "outputs": []
    },
    {
      "cell_type": "code",
      "source": [
        "# 3.\tWrite a code to print all the pre-defined keyword in python using the keyword library\n",
        "\"\"\"\n",
        "import keyword\n",
        "keyword_list = keyword.kwlist\n",
        "print (\"Python Keyword is : \", keyword_list)\n",
        "\"\"\""
      ],
      "metadata": {
        "id": "rzHbTO1qs_FG"
      },
      "execution_count": null,
      "outputs": []
    },
    {
      "cell_type": "code",
      "source": [
        "# 4.\tWrite a program that check if a given word is Python keyword.\n",
        "\"\"\"\n",
        "import keyword\n",
        "word = input (\"Enter a word: \")\n",
        "if keyword.iskeyword(word):\n",
        "    print(f\"'{word}' is a Python keyword.\")\n",
        "else:\n",
        "    print(f\"'{word}' is NOT a Python keyword.\")\n",
        "\"\"\"\n"
      ],
      "metadata": {
        "id": "iP8npxW7tpid"
      },
      "execution_count": null,
      "outputs": []
    },
    {
      "cell_type": "code",
      "source": [
        "# 5.\tCreate a list and tuple in python, and demonstrate how attempting to change an element works differently for each.\n",
        "\"\"\"\n",
        "list = [11, 20, 250.50, \"ram\", 100, 350]\n",
        "print(list)\n",
        "print(type(list))\n",
        "list[2]=99\n",
        "print(\"Modify list : \", list)\n",
        "\n",
        "tuple = ( 42, 50.655, 80, 1000, \"Shyam\",20, 555 )\n",
        "print(type(tuple))\n",
        "print(tuple)\n",
        "tuple[2]=100\n",
        "print(\"Modify tuple: \", tuple)\n",
        "\"\"\""
      ],
      "metadata": {
        "id": "4iGwvbQXt9p_"
      },
      "execution_count": null,
      "outputs": []
    },
    {
      "cell_type": "code",
      "source": [
        "# 6.\tWrite a function to demonstrate the behaviour of mutable and immutable arguments.\n",
        "\"\"\"\n",
        "list = [11, -242, 22, 500, 205]\n",
        "print(list)\n",
        "print(type(list))\n",
        "list[0] = \"biswajit\"\n",
        "print(list)\n",
        "\n",
        "\n",
        "str = \"biswajit\"\n",
        "print(str)\n",
        "print(type(str))\n",
        "print(s[0]) # D\n",
        "print(s[1]) # a\n",
        "str[2] = \"k\"\n",
        "print(str)\n",
        "\"\"\""
      ],
      "metadata": {
        "id": "3HMom7A8uh8e"
      },
      "execution_count": null,
      "outputs": []
    },
    {
      "cell_type": "code",
      "source": [
        "# 7.\tWrite a program that performs basic arithmetic operation on two user-input number.\n",
        "\"\"\"\n",
        "num1 = float (input (\"Enter first number: \"))\n",
        "num2 = float (input (\"Enter second number: \"))\n",
        "sum = num1 + num2\n",
        "difference = num1 - num2\n",
        "product = num1 * num2\n",
        "quotient = num1 / num2\n",
        "remainder = num1 % num2\n",
        "print(\"Results:\")\n",
        "print (f\"Sum: {sum}\")\n",
        "print (f\"Difference: {difference}\")\n",
        "print (f\"Product: {product}\")\n",
        "print (f\"quotient: {quotient}\")\n",
        "print (f\"remainder: {remainder}\")\n",
        "\"\"\""
      ],
      "metadata": {
        "id": "Tz7G0GKwvJ1t"
      },
      "execution_count": null,
      "outputs": []
    },
    {
      "cell_type": "code",
      "source": [
        "# 8.\tWrite a program to demonstrate the use of logical operators.\n",
        "\"\"\"\n",
        "age = 4\n",
        "weight = 15\n",
        "min_age = 5\n",
        "min_weight = 12\n",
        "if age>min_age and weight>min_weight:\n",
        "    print(\"Healthy Baby\")\n",
        "else:\n",
        "    print(\"Unhealthy Baby\")\n",
        "print(age>min_age and weight>min_weight)\n",
        "\"\"\"\n"
      ],
      "metadata": {
        "id": "3Xyc7ws_v0vQ"
      },
      "execution_count": null,
      "outputs": []
    },
    {
      "cell_type": "code",
      "source": [
        "# 9.\tWrite a python program to convert user input from string to integer, float, and Boolean types.\n",
        "\"\"\"\n",
        "user_input = input (\"Enter a value: \")\n",
        "int_num=int(user_input)\n",
        "float_num=float(user_input)\n",
        "bool_num=bool(user_input)\n",
        "print (\"Convert Number:\")\n",
        "print (f\"Interger Number: {int_num}\")\n",
        "print (f\"Float Number: {float_num}\")\n",
        "print (f\"Boolean Number: {bool_num}\")\n",
        "\"\"\""
      ],
      "metadata": {
        "id": "ox2-Yhd7wSuW"
      },
      "execution_count": null,
      "outputs": []
    },
    {
      "cell_type": "code",
      "source": [
        "# 10.\tWrite code to demonstrate type casting with list elements.\n",
        "\"\"\"\n",
        "mixed_list = [1, \"2\", 3.5, \"4.7\", \"5\"]\n",
        "\n",
        "int_list = [int(float(item)) for item in mixed_list]\n",
        "print(\"Integer List:\", int_list)\n",
        "\n",
        "float_list = [float(item) for item in mixed_list]\n",
        "print(\"Float List:\", float_list)\n",
        "\n",
        "string_list = [str(item) for item in mixed_list]\n",
        "print(\"String List:\", string_list)\n",
        "\"\"\""
      ],
      "metadata": {
        "id": "eniJ-ChbwhXe"
      },
      "execution_count": null,
      "outputs": []
    },
    {
      "cell_type": "code",
      "source": [
        "# 11.\tWrite a program that checks if a number is positive, negative, or zero.\n",
        "\"\"\"\n",
        "num = float(input(\"Enter a number: \"))\n",
        "if num > 0:\n",
        "        print(\"The number is positive.\")\n",
        "elif num < 0:\n",
        "        print(\"The number is negative.\")\n",
        "else:\n",
        "        print(\"The number is zero.\")\n",
        "\"\"\""
      ],
      "metadata": {
        "id": "dGYj38WMyg_2"
      },
      "execution_count": null,
      "outputs": []
    },
    {
      "cell_type": "code",
      "source": [
        "# 12.\tWrite a for loop to print numbers from 1 to 10.\n",
        "\"\"\"\n",
        "for num in range(1, 11):\n",
        "    print(num)\n",
        "\"\"\""
      ],
      "metadata": {
        "id": "oczSuKGEyyPt"
      },
      "execution_count": null,
      "outputs": []
    },
    {
      "cell_type": "code",
      "source": [
        "# 13.\tWrite a Python program to find the sum of all even numbers between 1 and 50.\n",
        "\"\"\"\n",
        "total = sum(range(2, 51, 2))\n",
        "print(\"Sum of even numbers between 1 and 50:\", total)\n",
        "\"\"\""
      ],
      "metadata": {
        "id": "x29GVloAy8qt"
      },
      "execution_count": null,
      "outputs": []
    },
    {
      "cell_type": "code",
      "source": [
        "# 14.\tWrite a program to reverse a string using a while loop.\n",
        "\"\"\"\n",
        "string = input(\"Enter a string: \")\n",
        "reversed_string = \"\"\n",
        "index = len(string) - 1  # Start from the last character\n",
        "while index >= 0:\n",
        "    reversed_string += string[index]\n",
        "    index -= 1  # Move to the previous character\n",
        "\n",
        "print(\"Reversed string:\", reversed_string)\n",
        "\"\"\""
      ],
      "metadata": {
        "id": "BI2U_2qQ0-yh"
      },
      "execution_count": null,
      "outputs": []
    },
    {
      "cell_type": "code",
      "source": [
        "# 15.\tWrite a Python program to calculate the factorial of a number provided by the user using a while loop.\n",
        "\"\"\"\n",
        "num = int(input(\"Enter a number: \"))\n",
        "factorial = 1\n",
        "i = num\n",
        "while i > 0:\n",
        "    factorial *= i\n",
        "    i -= 1\n",
        "print(f\"Factorial of {num} is: {factorial}\")\n",
        "\"\"\""
      ],
      "metadata": {
        "id": "QtkrzxeI2hSj"
      },
      "execution_count": null,
      "outputs": []
    }
  ]
}